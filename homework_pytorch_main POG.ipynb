{
 "cells": [
  {
   "cell_type": "markdown",
   "metadata": {
    "colab_type": "text",
    "id": "fjXeVS7ckEck"
   },
   "source": [
    "# Deep Q-Network implementation.\n",
    "\n",
    "This homework shamelessly demands you to implement a DQN - an approximate q-learning algorithm with experience replay and target networks - and see if it works any better this way.\n",
    "\n",
    "Original paper:\n",
    "https://arxiv.org/pdf/1312.5602.pdf"
   ]
  },
  {
   "cell_type": "markdown",
   "metadata": {
    "colab_type": "text",
    "id": "_Ro0iRM4kEcq"
   },
   "source": [
    "**This notebook is the main notebook.** Another notebook is given for debug. (**homework_pytorch_main**). The tasks are similar and share most of the code. The main difference is in environments. In main notebook it can take some 2 hours for the agent to start improving so it seems reasonable to launch the algorithm on a simpler env first. Here it is CartPole and it will train in several minutes.\n",
    "\n",
    "**We suggest the following pipeline:** First implement debug notebook then implement the main one.\n",
    "\n",
    "**About evaluation:** All points are given for the main notebook with one exception: if agent fails to beat the threshold in main notebook you can get 1 pt (instead of 3 pts) for beating the threshold in debug notebook."
   ]
  },
  {
   "cell_type": "code",
   "execution_count": 1,
   "metadata": {
    "colab": {
     "base_uri": "https://localhost:8080/",
     "height": 51
    },
    "colab_type": "code",
    "id": "z4Wcq5M5kEcu",
    "outputId": "0d6dd6b0-4c8c-47e1-ebca-160692ca33f5"
   },
   "outputs": [
    {
     "name": "stderr",
     "output_type": "stream",
     "text": [
      "\"bash\" не является внутренней или внешней\n",
      "командой, исполняемой программой или пакетным файлом.\n"
     ]
    }
   ],
   "source": [
    "# # in google colab uncomment this\n",
    "\n",
    "# import os\n",
    "\n",
    "# os.system('apt-get install -y xvfb')\n",
    "# os.system('wget https://raw.githubusercontent.com/yandexdataschool/Practical_DL/fall18/xvfb -O ../xvfb')\n",
    "# os.system('apt-get install -y python-opengl ffmpeg')\n",
    "# os.system('pip install pyglet==1.2.4')\n",
    "\n",
    "# os.system('python -m pip install -U pygame --user')\n",
    "\n",
    "# prefix = 'https://raw.githubusercontent.com/yandexdataschool/Practical_RL/master/week04_approx_rl/'\n",
    "\n",
    "# os.system('wget ' + prefix + 'atari_wrappers.py')\n",
    "# os.system('wget ' + prefix + 'utils.py')\n",
    "# os.system('wget ' + prefix + 'replay_buffer.py')\n",
    "# os.system('wget ' + prefix + 'framebuffer.py')\n",
    "\n",
    "# print('setup complete')\n",
    "\n",
    "# XVFB will be launched if you run on a server\n",
    "import os\n",
    "if type(os.environ.get(\"DISPLAY\")) is not str or len(os.environ.get(\"DISPLAY\")) == 0:\n",
    "    !bash ../xvfb start\n",
    "    os.environ['DISPLAY'] = ':1'"
   ]
  },
  {
   "cell_type": "markdown",
   "metadata": {
    "colab_type": "text",
    "id": "MsHSODFGkEc_"
   },
   "source": [
    "__Frameworks__ - we'll accept this homework in any deep learning framework. This particular notebook was designed for pytoch, but you find it easy to adapt it to almost any python-based deep learning framework."
   ]
  },
  {
   "cell_type": "code",
   "execution_count": 2,
   "metadata": {
    "colab": {},
    "colab_type": "code",
    "id": "g_3nulkmkEdB"
   },
   "outputs": [],
   "source": [
    "import random\n",
    "import numpy as np\n",
    "import torch\n",
    "import utils"
   ]
  },
  {
   "cell_type": "code",
   "execution_count": 3,
   "metadata": {
    "colab": {},
    "colab_type": "code",
    "id": "WnmnJBVlkEdJ"
   },
   "outputs": [],
   "source": [
    "import gym\n",
    "import numpy as np\n",
    "import matplotlib.pyplot as plt"
   ]
  },
  {
   "cell_type": "markdown",
   "metadata": {
    "colab_type": "text",
    "id": "tWnQM7oIkEdQ"
   },
   "source": [
    "### Let's play some old videogames\n",
    "![img](https://github.com/yandexdataschool/Practical_RL/raw/master/yet_another_week/_resource/nerd.png)\n",
    "\n",
    "This time we're gonna apply approximate q-learning to an atari game called Breakout. It's not the hardest thing out there, but it's definitely way more complex than anything we tried before.\n"
   ]
  },
  {
   "cell_type": "code",
   "execution_count": 4,
   "metadata": {
    "colab": {},
    "colab_type": "code",
    "id": "4_LGiImakEdS"
   },
   "outputs": [],
   "source": [
    "ENV_NAME = \"BreakoutNoFrameskip-v4\""
   ]
  },
  {
   "cell_type": "markdown",
   "metadata": {
    "colab_type": "text",
    "id": "z9Vw_cfAkEdZ"
   },
   "source": [
    "## Preprocessing (3 pts)"
   ]
  },
  {
   "cell_type": "markdown",
   "metadata": {
    "colab_type": "text",
    "id": "DGPuYP5LkEdb"
   },
   "source": [
    "Let's see what observations look like."
   ]
  },
  {
   "cell_type": "code",
   "execution_count": 5,
   "metadata": {
    "colab": {
     "base_uri": "https://localhost:8080/",
     "height": 520
    },
    "colab_type": "code",
    "id": "bCWO8thnkEdd",
    "outputId": "3e66cd04-f21e-4f59-a415-dd11abd27019"
   },
   "outputs": [
    {
     "data": {
      "image/png": "[encoded data removed]",
      "text/plain": [
       "<Figure size 1152x648 with 10 Axes>"
      ]
     },
     "metadata": {
      "needs_background": "light"
     },
     "output_type": "display_data"
    }
   ],
   "source": [
    "env = gym.make(ENV_NAME)\n",
    "env.reset()\n",
    "\n",
    "n_cols = 5\n",
    "n_rows = 2\n",
    "fig = plt.figure(figsize=(16, 9))\n",
    "\n",
    "for row in range(n_rows):\n",
    "    for col in range(n_cols):\n",
    "        ax = fig.add_subplot(n_rows, n_cols, row * n_cols + col + 1)\n",
    "        ax.imshow(env.render('rgb_array'))\n",
    "        env.step(env.action_space.sample())\n",
    "plt.show()"
   ]
  },
  {
   "cell_type": "markdown",
   "metadata": {
    "colab_type": "text",
    "id": "O9k6kUcekEdk"
   },
   "source": [
    "**Let's play a little.**\n",
    "\n",
    "Pay attention to zoom and fps args of play function. Control: A, D, space."
   ]
  },
  {
   "cell_type": "code",
   "execution_count": 6,
   "metadata": {
    "colab": {},
    "colab_type": "code",
    "id": "XC89vtYKkEdm"
   },
   "outputs": [],
   "source": [
    "# # does not work in colab.\n",
    "# # make keyboard interrupt to continue\n",
    "\n",
    "# from gym.utils.play import play\n",
    "\n",
    "# play(env=gym.make(ENV_NAME), zoom=5, fps=30)"
   ]
  },
  {
   "cell_type": "markdown",
   "metadata": {
    "colab_type": "text",
    "id": "JdXIt4znkEds"
   },
   "source": [
    "### Processing game image \n",
    "\n",
    "Raw atari images are large, 210x160x3 by default. However, we don't need that level of detail in order to learn them.\n",
    "\n",
    "We can thus save a lot of time by preprocessing game image, including\n",
    "* Resizing to a smaller shape, 64 x 64\n",
    "* Converting to grayscale\n",
    "* Cropping irrelevant image parts (top, bottom and edges)\n",
    "\n",
    "Also please keep one dimension for channel so that final shape would be 1 x 64 x 64.\n",
    "\n",
    "Tip: You can implement your own grayscale converter and assign a huge weight to the red channel. This dirty trick is not necessary but it will speed up learning."
   ]
  },
  {
   "cell_type": "code",
   "execution_count": 7,
   "metadata": {
    "colab": {},
    "colab_type": "code",
    "id": "uFdbyjMRkEdu"
   },
   "outputs": [],
   "source": [
    "from skimage.transform import resize"
   ]
  },
  {
   "cell_type": "code",
   "execution_count": 8,
   "metadata": {
    "colab": {},
    "colab_type": "code",
    "id": "-ku2iF2YkEdz"
   },
   "outputs": [],
   "source": [
    "from gym.core import ObservationWrapper\n",
    "from gym.spaces import Box\n",
    "from skimage.transform import resize\n",
    "\n",
    "\n",
    "class PreprocessAtariObs(ObservationWrapper):\n",
    "    def __init__(self, env):\n",
    "        \"\"\"A gym wrapper that crops, scales image into the desired shapes and grayscales it.\"\"\"\n",
    "        ObservationWrapper.__init__(self, env)\n",
    "\n",
    "        self.img_size = (1, 64, 64)\n",
    "        self.observation_space = Box(0.0, 1.0, self.img_size)\n",
    "\n",
    "\n",
    "    def _to_gray_scale(self, rgb, channel_weights=[0.8, 0.1, 0.1]):\n",
    "#         <Your code here>\n",
    "        return rgb.dot(channel_weights)\n",
    "\n",
    "\n",
    "    def observation(self, img):\n",
    "        \"\"\"what happens to each observation\"\"\"\n",
    "\n",
    "        # Here's what you need to do:\n",
    "        #  * crop image, remove irrelevant parts\n",
    "        #  * resize image to self.img_size\n",
    "        #     (use imresize from any library you want,\n",
    "        #      e.g. opencv, skimage, PIL, keras)\n",
    "        #  * cast image to grayscale\n",
    "        #  * convert image pixels to (0,1) range, float32 type\n",
    "        img = img[30: -15, 8: -8, :]\n",
    "        img = self._to_gray_scale(img)\n",
    "        img = resize(img, self.img_size[1:])[None, :]\n",
    "        return np.asarray(img/255, dtype=np.float32)"
   ]
  },
  {
   "cell_type": "code",
   "execution_count": 9,
   "metadata": {
    "colab": {
     "base_uri": "https://localhost:8080/",
     "height": 522
    },
    "colab_type": "code",
    "id": "NR5UfrlVkEd5",
    "outputId": "eefd7fd0-5d2b-45cc-e685-51c44ea54787"
   },
   "outputs": [
    {
     "name": "stdout",
     "output_type": "stream",
     "text": [
      "Formal tests seem fine. Here's an example of what you'll get.\n"
     ]
    },
    {
     "data": {
      "image/png": "[encoded data removed]",
      "text/plain": [
       "<Figure size 1152x648 with 10 Axes>"
      ]
     },
     "metadata": {
      "needs_background": "light"
     },
     "output_type": "display_data"
    }
   ],
   "source": [
    "import gym\n",
    "# spawn game instance for tests\n",
    "env = gym.make(ENV_NAME)  # create raw env\n",
    "env = PreprocessAtariObs(env)\n",
    "observation_shape = env.observation_space.shape\n",
    "n_actions = env.action_space.n\n",
    "env.reset()\n",
    "obs, _, _, _ = env.step(env.action_space.sample())\n",
    "\n",
    "# test observation\n",
    "# assert obs.ndim == 3, \"observation must be [channel, h, w] even if there's just one channel\"\n",
    "# assert obs.shape == observation_shape\n",
    "# assert obs.dtype == 'float32'\n",
    "# assert len(np.unique(obs)) > 2, \"your image must not be binary\"\n",
    "# assert 0 <= np.min(obs) and np.max(\n",
    "#     obs) <= 1, \"convert image pixels to [0,1] range\"\n",
    "\n",
    "print(\"Formal tests seem fine. Here's an example of what you'll get.\")\n",
    "\n",
    "n_cols = 5\n",
    "n_rows = 2\n",
    "fig = plt.figure(figsize=(16, 9))\n",
    "obs = env.reset()\n",
    "for row in range(n_rows):\n",
    "    for col in range(n_cols):\n",
    "        ax = fig.add_subplot(n_rows, n_cols, row * n_cols + col + 1)\n",
    "        ax.imshow(obs[0, :, :], interpolation='none', cmap='gray')\n",
    "        obs, _, _, _ = env.step(env.action_space.sample())\n",
    "plt.show()"
   ]
  },
  {
   "cell_type": "markdown",
   "metadata": {
    "colab_type": "text",
    "id": "Wj8pvZ8HkEd_"
   },
   "source": [
    "### Wrapping."
   ]
  },
  {
   "cell_type": "markdown",
   "metadata": {
    "colab_type": "text",
    "id": "sfvetQwckEeC"
   },
   "source": [
    "**About the game:** You have 5 lives and get points for breaking the wall. Higher bricks cost more than the lower ones. There are 4 actions: start game (should be called at the beginning and after each life is lost), move left, move right and do nothing. There are some common wrappers used for Atari environments."
   ]
  },
  {
   "cell_type": "code",
   "execution_count": 10,
   "metadata": {
    "colab": {},
    "colab_type": "code",
    "id": "Zp6d8ptpkEeD"
   },
   "outputs": [],
   "source": [
    "%load_ext autoreload\n",
    "%autoreload 2\n",
    "import atari_wrappers\n",
    "\n",
    "def PrimaryAtariWrap(env, clip_rewards=True):\n",
    "    assert 'NoFrameskip' in env.spec.id\n",
    "\n",
    "    # This wrapper holds the same action for <skip> frames and outputs\n",
    "    # the maximal pixel value of 2 last frames (to handle blinking\n",
    "    # in some envs)\n",
    "    env = atari_wrappers.MaxAndSkipEnv(env, skip=4)\n",
    "\n",
    "    # This wrapper sends done=True when each life is lost\n",
    "    # (not all the 5 lives that are givern by the game rules).\n",
    "    # It should make easier for the agent to understand that losing is bad.\n",
    "    env = atari_wrappers.EpisodicLifeEnv(env)\n",
    "\n",
    "    # This wrapper laucnhes the ball when an episode starts.\n",
    "    # Without it the agent has to learn this action, too.\n",
    "    # Actually it can but learning would take longer.\n",
    "    env = atari_wrappers.FireResetEnv(env)\n",
    "\n",
    "    # This wrapper transforms rewards to {-1, 0, 1} according to their sign\n",
    "    if clip_rewards:\n",
    "        env = atari_wrappers.ClipRewardEnv(env)\n",
    "\n",
    "    # This wrapper is yours :)\n",
    "    env = PreprocessAtariObs(env)\n",
    "    return env"
   ]
  },
  {
   "cell_type": "markdown",
   "metadata": {
    "colab_type": "text",
    "id": "yQL1PACSkEeI"
   },
   "source": [
    "**Let's see if the game is still playable after applying the wrappers.**\n",
    "At playing the EpisodicLifeEnv wrapper seems not to work but actually it does (because after when life finishes a new ball is dropped automatically - it means that FireResetEnv wrapper understands that a new episode began)."
   ]
  },
  {
   "cell_type": "code",
   "execution_count": 11,
   "metadata": {
    "colab": {},
    "colab_type": "code",
    "id": "zeZQOcOCkEeJ"
   },
   "outputs": [],
   "source": [
    "# # does not work in colab.\n",
    "# # make keyboard interrupt to continue\n",
    "\n",
    "# from gym.utils.play import play\n",
    "\n",
    "# def make_play_env():\n",
    "#     env = gym.make(ENV_NAME)\n",
    "#     env = PrimaryAtariWrap(env)\n",
    "# # in torch imgs have shape [c, h, w] instead of common [h, w, c]\n",
    "#     env = atari_wrappers.AntiTorchWrapper(env)\n",
    "#     return env\n",
    "\n",
    "# play(make_play_env(), zoom=10, fps=3)"
   ]
  },
  {
   "cell_type": "markdown",
   "metadata": {
    "colab_type": "text",
    "id": "1-pyc-p4kEeQ"
   },
   "source": [
    "### Frame buffer\n",
    "\n",
    "Our agent can only process one observation at a time, so we gotta make sure it contains enough information to find optimal actions. For instance, agent has to react to moving objects so he must be able to measure object's velocity.\n",
    "\n",
    "To do so, we introduce a buffer that stores 4 last images. This time everything is pre-implemented for you, not really by the staff of the course :)"
   ]
  },
  {
   "cell_type": "code",
   "execution_count": 12,
   "metadata": {
    "colab": {
     "base_uri": "https://localhost:8080/",
     "height": 51
    },
    "colab_type": "code",
    "id": "PPPiQqzNkEeR",
    "outputId": "b0025134-054a-4709-821f-a24e92fba8e9"
   },
   "outputs": [],
   "source": [
    "from framebuffer import FrameBuffer\n",
    "\n",
    "def make_env(clip_rewards=True, seed=None):\n",
    "    env = gym.make(ENV_NAME)  # create raw env\n",
    "    if seed is not None:\n",
    "        env.seed(seed)\n",
    "    env = PrimaryAtariWrap(env, clip_rewards)\n",
    "    env = FrameBuffer(env, n_frames=4, dim_order='pytorch')\n",
    "    return env\n",
    "\n",
    "env = make_env()\n",
    "env.reset()\n",
    "n_actions = env.action_space.n\n",
    "state_shape = env.observation_space.shape"
   ]
  },
  {
   "cell_type": "code",
   "execution_count": 13,
   "metadata": {
    "colab": {
     "base_uri": "https://localhost:8080/",
     "height": 1000
    },
    "colab_type": "code",
    "id": "FVv_UeaFkEeW",
    "outputId": "3bfe178e-7229-4b64-9d74-3f93e4961f31",
    "scrolled": true
   },
   "outputs": [
    {
     "data": {
      "image/png": "[encoded data removed]",
      "text/plain": [
       "<Figure size 864x720 with 1 Axes>"
      ]
     },
     "metadata": {
      "needs_background": "light"
     },
     "output_type": "display_data"
    },
    {
     "data": {
      "image/png": "[encoded data removed]",
      "text/plain": [
       "<Figure size 1080x1080 with 1 Axes>"
      ]
     },
     "metadata": {
      "needs_background": "light"
     },
     "output_type": "display_data"
    }
   ],
   "source": [
    "for _ in range(12):\n",
    "    obs, _, _, _ = env.step(env.action_space.sample())\n",
    "\n",
    "plt.figure(figsize=[12,10])\n",
    "plt.title(\"Game image\")\n",
    "plt.imshow(env.render(\"rgb_array\"))\n",
    "plt.show()\n",
    "\n",
    "plt.figure(figsize=[15,15])\n",
    "plt.title(\"Agent observation (4 frames top to bottom)\")\n",
    "plt.imshow(utils.img_by_obs(obs, state_shape), cmap='gray')\n",
    "plt.show()"
   ]
  },
  {
   "cell_type": "markdown",
   "metadata": {
    "colab_type": "text",
    "id": "d8q6eH42kEec"
   },
   "source": [
    "## DQN as it is (4 pts)"
   ]
  },
  {
   "cell_type": "markdown",
   "metadata": {
    "colab_type": "text",
    "id": "3ubGnSdOkEed"
   },
   "source": [
    "### Building a network\n",
    "\n",
    "We now need to build a neural network that can map images to state q-values. This network will be called on every agent's step so it better not be resnet-152 unless you have an array of GPUs. Instead, you can use strided convolutions with a small number of features to save time and memory.\n",
    "\n",
    "You can build any architecture you want, but for reference, here's something that will more or less work:"
   ]
  },
  {
   "cell_type": "markdown",
   "metadata": {
    "colab_type": "text",
    "id": "uc0qUtQckEee"
   },
   "source": [
    "![img](https://github.com/yandexdataschool/Practical_RL/raw/master/yet_another_week/_resource/dqn_arch.png)"
   ]
  },
  {
   "cell_type": "code",
   "execution_count": 14,
   "metadata": {
    "colab": {
     "base_uri": "https://localhost:8080/",
     "height": 34
    },
    "colab_type": "code",
    "id": "xeek3Rq8kEeg",
    "outputId": "1d8c4e2b-8c4f-43f7-f8af-09825bbc59b1"
   },
   "outputs": [
    {
     "data": {
      "text/plain": [
       "device(type='cuda')"
      ]
     },
     "execution_count": 14,
     "metadata": {},
     "output_type": "execute_result"
    }
   ],
   "source": [
    "import torch\n",
    "import torch.nn as nn\n",
    "device = torch.device('cuda' if torch.cuda.is_available() else 'cpu')\n",
    "# those who have a GPU but feel unfair to use it can uncomment:\n",
    "# device = torch.device('cpu')\n",
    "device"
   ]
  },
  {
   "cell_type": "code",
   "execution_count": 15,
   "metadata": {
    "colab": {},
    "colab_type": "code",
    "id": "U9krSk-nkEek"
   },
   "outputs": [],
   "source": [
    "def conv2d_size_out(size, kernel_size, stride):\n",
    "    \"\"\"\n",
    "    common use case:\n",
    "    cur_layer_img_w = conv2d_size_out(cur_layer_img_w, kernel_size, stride)\n",
    "    cur_layer_img_h = conv2d_size_out(cur_layer_img_h, kernel_size, stride)\n",
    "    to understand the shape for dense layer's input\n",
    "    \"\"\"\n",
    "    return (size - (kernel_size - 1) - 1) // stride  + 1"
   ]
  },
  {
   "cell_type": "code",
   "execution_count": 16,
   "metadata": {},
   "outputs": [],
   "source": [
    "import torch.nn.functional as F\n",
    "\n",
    "class NoisyLayer(nn.Module):\n",
    "    def __init__(self, in_features, out_features):\n",
    "        super().__init__()\n",
    "        self.in_features = in_features\n",
    "        self.out_features = out_features\n",
    "        self.weight = torch.nn.Parameter(data=torch.zeros(in_features, out_features), requires_grad=True)\n",
    "        self.bias = torch.nn.Parameter(data=torch.zeros(out_features), requires_grad=True)\n",
    "        self.weight_n = torch.nn.Parameter(data=torch.zeros(in_features, out_features), requires_grad=True)\n",
    "        self.bias_n = torch.nn.Parameter(data=torch.zeros(out_features), requires_grad=True)\n",
    "        torch.nn.init.orthogonal_(self.weight.data, 2**0.5)\n",
    "        self.bias.data.uniform_(-1e-1, 1e-1)\n",
    "        torch.nn.init.orthogonal_(self.weight_n.data, 2**0.5)\n",
    "        self.bias_n.data.uniform_(-1e-1, 1e-1)\n",
    "    \n",
    "    def forward(self, X):\n",
    "        return X.matmul(self.weight) + self.bias +\\\n",
    "                    X.matmul(self.weight_n * torch.randn(self.in_features, self.out_features, device=device)) +\\\n",
    "                    self.bias_n * torch.randn(self.out_features, device=device)\n",
    "\n",
    "\n",
    "class MyDuelingNetwork(nn.Module):\n",
    "    \n",
    "    def __init__(self, state_shape, n_actions, n_atomics):\n",
    "        super().__init__()\n",
    "        self.n_actions = n_actions\n",
    "        self.n_atomics = n_atomics\n",
    "        \n",
    "        self.conv1 = nn.Conv2d(state_shape[0], 32, 3, 2)\n",
    "        \n",
    "        self.conv2 = nn.Conv2d(32, 64, 3, 2)\n",
    "        self.conv3 = nn.Conv2d(64, 128, 3, 2)\n",
    "        self.fc = nn.Linear(6272, 512)\n",
    "        \n",
    "        self.fc_adv = NoisyLayer(512, n_atomics*n_actions)\n",
    "        \n",
    "        self.fc_sv = NoisyLayer(512, n_atomics)\n",
    "        \n",
    "        \n",
    "    def forward(self, X):\n",
    "        batch_size = X.shape[0]\n",
    "        X = F.relu(self.conv1(X))\n",
    "        X = F.relu(self.conv2(X))\n",
    "        X = F.relu(self.conv3(X))\n",
    "        X = F.relu(self.fc(X.view(X.shape[0], -1)))\n",
    "        \n",
    "        X_adv = self.fc_adv(X)\n",
    "        X_adv = X_adv.view(X.shape[0], self.n_atomics, self.n_actions)\n",
    "        \n",
    "        X_sv = self.fc_sv(X)\n",
    "        \n",
    "#         return torch.softmax(X_sv[:, :, None] + X_adv - torch.mean(X_adv, -1)[:, :, None], 1)\n",
    "        offset = torch.linspace(0, ((batch_size * self.n_actions  - 1) * self.n_atomics ),\n",
    "                                batch_size * self.n_actions, device=device\n",
    "                               ).reshape(batch_size, self.n_actions, 1).to(torch.long)\n",
    "        idxes = (offset + \n",
    "                 torch.clamp(\n",
    "                     (\n",
    "                        torch.arange(0, self.n_atomics, dtype=torch.long, device=device\n",
    "                                   ).expand(batch_size, self.n_actions, self.n_atomics)[:, :, :, None] +\\\n",
    "                        torch.arange(-(self.n_atomics - 1), 1, dtype=torch.long, device=device\n",
    "                                   ).expand(batch_size, self.n_actions, self.n_atomics)[:, :, None, :]\n",
    "                    ).view(batch_size, self.n_actions, -1),\n",
    "                0, self.n_atomics - 1)\n",
    "        ).view(-1)\n",
    "        probas = (torch.softmax(X_sv, 1)[:, :, None, None].repeat(1, 1, 1, self.n_actions) *\\\n",
    "                  torch.softmax(X_adv, 1)[:, None, :, :]\n",
    "                 ).view(batch_size, -1, self.n_actions).transpose(1, 2)\n",
    "        m = torch.zeros(batch_size, self.n_actions, self.n_atomics, device=device)\n",
    "        m.view(-1).index_add_(0, idxes, probas.reshape(-1))\n",
    "        m.transpose_(1, 2)\n",
    "        return m\n"
   ]
  },
  {
   "cell_type": "code",
   "execution_count": 17,
   "metadata": {},
   "outputs": [],
   "source": [
    "# import torch.nn.functional as F\n",
    "\n",
    "# class NoisyLayer(nn.Module):\n",
    "#     def __init__(self, in_features, out_features):\n",
    "#         super().__init__()\n",
    "#         self.in_features = in_features\n",
    "#         self.out_features = out_features\n",
    "#         self.weight = torch.nn.Parameter(data=torch.zeros(in_features, out_features), requires_grad=True)\n",
    "#         self.bias = torch.nn.Parameter(data=torch.zeros(out_features), requires_grad=True)\n",
    "#         self.weight_n = torch.nn.Parameter(data=torch.zeros(in_features, out_features), requires_grad=True)\n",
    "#         self.bias_n = torch.nn.Parameter(data=torch.zeros(out_features), requires_grad=True)\n",
    "#         torch.nn.init.orthogonal_(self.weight.data, 2**0.5)\n",
    "#         self.bias.data.uniform_(-1e-1, 1e-1)\n",
    "#         torch.nn.init.orthogonal_(self.weight_n.data, 2**0.5)\n",
    "#         self.bias_n.data.uniform_(-1e-1, 1e-1)\n",
    "    \n",
    "#     def forward(self, X):\n",
    "#         return X.matmul(self.weight) + self.bias +\\\n",
    "#                     X.matmul(self.weight_n * torch.randn(self.in_features, self.out_features, device=device)) +\\\n",
    "#                     self.bias_n * torch.randn(self.out_features, device=device)\n",
    "\n",
    "\n",
    "# class MyDuelingNetwork(nn.Module):\n",
    "    \n",
    "#     def __init__(self, state_shape, n_actions, n_atomics):\n",
    "#         super().__init__()\n",
    "#         self.n_actions = n_actions\n",
    "#         self.n_atomics = n_atomics\n",
    "        \n",
    "#         self.conv0_0 = nn.Conv2d(state_shape[0], 32, 3, 1)\n",
    "        \n",
    "#         self.conv1_0 = nn.Conv2d(32, 32, 3, 1)\n",
    "#         self.conv1_1 = nn.Conv2d(32, 32, 3, 1, 1)\n",
    "#         self.conv1_2 = nn.Conv2d(32, 32, 3, 1, 1)\n",
    "#         self.conv1_3 = nn.Conv2d(32, 32, 3, 1)\n",
    "#         self.mp1 = nn.MaxPool2d(2)\n",
    "        \n",
    "#         self.conv2_0 = nn.Conv2d(32, 32, 3, 1)\n",
    "#         self.conv2_1 = nn.Conv2d(32, 32, 3, 1, 1)\n",
    "#         self.conv2_2 = nn.Conv2d(32, 32, 3, 1, 1)\n",
    "#         self.conv2_3 = nn.Conv2d(32, 64, 3, 1)\n",
    "#         self.mp2 = nn.MaxPool2d(2)\n",
    "        \n",
    "#         self.conv3_0 = nn.Conv2d(64, 64, 3, 1)\n",
    "#         self.conv3_1 = nn.Conv2d(64, 64, 3, 1, 1)\n",
    "#         self.conv3_2 = nn.Conv2d(64, 64, 3, 1, 1)\n",
    "#         self.conv3_3 = nn.Conv2d(64, 128, 3, 1)\n",
    "#         self.mp3 = nn.MaxPool2d(2)\n",
    "        \n",
    "#         self.conv_adv = nn.Conv2d(128, 128, 3, 1, 1)\n",
    "#         self.fc_adv = NoisyLayer(2048, n_atomics*n_actions)\n",
    "        \n",
    "#         self.conv_sv = nn.Conv2d(128, 128, 3, 1, 1)\n",
    "#         self.fc_sv = NoisyLayer(2048, n_atomics)\n",
    "        \n",
    "        \n",
    "#     def forward(self, X):\n",
    "#         batch_size = X.shape[0]\n",
    "#         X = F.relu(self.conv0_0(X))\n",
    "        \n",
    "#         X_ = F.relu(self.conv1_0(X))\n",
    "#         X = F.relu(self.conv1_1(X_))\n",
    "#         X = F.relu(self.conv1_2(X)) + X_\n",
    "#         X = F.relu(self.conv1_3(X))\n",
    "#         X = self.mp1(X)\n",
    "        \n",
    "#         X_ = F.relu(self.conv2_0(X))\n",
    "#         X = F.relu(self.conv2_1(X_))\n",
    "#         X = F.relu(self.conv2_2(X)) + X_\n",
    "#         X = F.relu(self.conv2_3(X))\n",
    "#         X = self.mp2(X)\n",
    "        \n",
    "#         X_ = F.relu(self.conv3_0(X))\n",
    "#         X = F.relu(self.conv3_1(X_))\n",
    "#         X = F.relu(self.conv3_2(X)) + X_\n",
    "#         X = F.relu(self.conv3_3(X))\n",
    "#         X = self.mp3(X)\n",
    "        \n",
    "#         X_adv = F.relu(self.conv_adv(X))\n",
    "# #         print(X_adv[:, 0])\n",
    "#         X_adv = X_adv.view(X.shape[0], -1)\n",
    "#         X_adv = self.fc_adv(X_adv)\n",
    "#         X_adv = X_adv.view(X.shape[0], self.n_atomics, self.n_actions)\n",
    "        \n",
    "#         X_sv = F.relu(self.conv_sv(X))\n",
    "#         X_sv = X_sv.view(X.shape[0], -1)\n",
    "#         X_sv = self.fc_sv(X_sv)\n",
    "# #         return torch.softmax(X_sv[:, :, None] + X_adv - torch.mean(X_adv, -1)[:, :, None], 1)\n",
    "#         offset = torch.linspace(0, ((batch_size * self.n_actions  - 1) * self.n_atomics ),\n",
    "#                                 batch_size * self.n_actions, device=device\n",
    "#                                ).reshape(batch_size, self.n_actions, 1).to(torch.long)\n",
    "#         idxes = (offset + \n",
    "#                  torch.clamp(\n",
    "#                      (\n",
    "#                         torch.arange(0, self.n_atomics, dtype=torch.long, device=device\n",
    "#                                    ).expand(batch_size, self.n_actions, self.n_atomics)[:, :, :, None] +\\\n",
    "#                         torch.arange(-(self.n_atomics - 1), 1, dtype=torch.long, device=device\n",
    "#                                    ).expand(batch_size, self.n_actions, self.n_atomics)[:, :, None, :]\n",
    "#                     ).view(batch_size, self.n_actions, -1),\n",
    "#                 0, self.n_atomics - 1)\n",
    "#         ).view(-1)\n",
    "#         probas = (torch.softmax(X_sv, 1)[:, :, None, None].repeat(1, 1, 1, self.n_actions) *\\\n",
    "#                   torch.softmax(X_adv, 1)[:, None, :, :]\n",
    "#                  ).view(batch_size, -1, self.n_actions).transpose(1, 2)\n",
    "#         m = torch.zeros(batch_size, self.n_actions, self.n_atomics, device=device)\n",
    "#         m.view(-1).index_add_(0, idxes, probas.reshape(-1))\n",
    "#         m.transpose_(1, 2)\n",
    "#         return m\n"
   ]
  },
  {
   "cell_type": "code",
   "execution_count": 18,
   "metadata": {
    "colab": {},
    "colab_type": "code",
    "id": "DA5ZPvJlkEes"
   },
   "outputs": [],
   "source": [
    "class DQNAgent(nn.Module):\n",
    "    def __init__(self, state_shape, n_actions, epsilon=0, V_min=0, V_max=5, N=12):\n",
    "\n",
    "        super().__init__()\n",
    "        self.epsilon = epsilon\n",
    "        self.n_actions = n_actions\n",
    "        self.state_shape = state_shape\n",
    "\n",
    "        # Define your network body here. Please make sure agent is fully contained here\n",
    "#         self.network = MyDuelingNetwork(state_shape, n_actions)\n",
    "        self.network = MyDuelingNetwork(state_shape, n_actions, N)\n",
    "        self.z = torch.linspace(V_min, V_max, N).cuda()\n",
    "        self.delta = (V_max - V_min)/(N - 1)\n",
    "\n",
    "    def forward(self, state_t):\n",
    "        \"\"\"\n",
    "        takes agent's observation (tensor), returns qvalues (tensor)\n",
    "        :param state_t: a batch of 4-frame buffers, shape = [batch_size, 4, h, w]\n",
    "        \"\"\"\n",
    "        # Use your network to compute qvalues for given state\n",
    "#         qvalues = self.network(state_t)\n",
    "        proba = self.network(state_t)\n",
    "\n",
    "#         assert qvalues.requires_grad, \"qvalues must be a torch tensor with grad\"\n",
    "#         assert len(\n",
    "#             qvalues.shape) == 2 and qvalues.shape[0] == state_t.shape[0] and qvalues.shape[1] == n_actions\n",
    "\n",
    "        return proba\n",
    "\n",
    "    def get_qvalues(self, states):\n",
    "        \"\"\"\n",
    "        like forward, but works on numpy arrays, not tensors\n",
    "        \"\"\"\n",
    "        model_device = next(self.parameters()).device\n",
    "        states = torch.tensor(states, device=model_device, dtype=torch.float)\n",
    "        qvalues = self.forward(states).transpose(1, 2).matmul(self.z)\n",
    "        return qvalues.data.cpu().numpy()\n",
    "\n",
    "    def sample_actions(self, qvalues):\n",
    "        \"\"\"pick actions given qvalues. Uses epsilon-greedy exploration strategy. \"\"\"\n",
    "        epsilon = self.epsilon\n",
    "        batch_size, n_actions = qvalues.shape\n",
    "\n",
    "        random_actions = np.random.choice(n_actions, size=batch_size)\n",
    "        best_actions = qvalues.argmax(axis=-1)\n",
    "\n",
    "        should_explore = np.random.choice(\n",
    "            [0, 1], batch_size, p=[1-epsilon, epsilon])\n",
    "        return np.where(should_explore, random_actions, best_actions)"
   ]
  },
  {
   "cell_type": "code",
   "execution_count": 19,
   "metadata": {
    "colab": {},
    "colab_type": "code",
    "id": "leJaim5lkEey"
   },
   "outputs": [],
   "source": [
    "agent = DQNAgent(state_shape, n_actions, epsilon=0.5).to(device)"
   ]
  },
  {
   "cell_type": "markdown",
   "metadata": {
    "colab_type": "text",
    "id": "oO6W2xCYkEe0"
   },
   "source": [
    "Now let's try out our agent to see if it raises any errors."
   ]
  },
  {
   "cell_type": "code",
   "execution_count": 20,
   "metadata": {
    "colab": {},
    "colab_type": "code",
    "id": "AmOX-l6xkEe3"
   },
   "outputs": [],
   "source": [
    "def evaluate(env, agent, n_games=1, greedy=False, t_max=10000):\n",
    "    \"\"\" Plays n_games full games. If greedy, picks actions as argmax(qvalues). Returns mean reward. \"\"\"\n",
    "    rewards = []\n",
    "    for _ in range(n_games):\n",
    "        s = env.reset()\n",
    "        reward = 0\n",
    "        for _ in range(t_max):\n",
    "            qvalues = agent.get_qvalues([s])\n",
    "            action = qvalues.argmax(axis=-1)[0] if greedy else agent.sample_actions(qvalues)[0]\n",
    "            s, r, done, _ = env.step(action)\n",
    "            reward += r\n",
    "            if done:\n",
    "                break\n",
    "\n",
    "        rewards.append(reward)\n",
    "    return np.mean(rewards)"
   ]
  },
  {
   "cell_type": "code",
   "execution_count": 21,
   "metadata": {
    "colab": {
     "base_uri": "https://localhost:8080/",
     "height": 34
    },
    "colab_type": "code",
    "id": "YkQY2lhRkEe6",
    "outputId": "f4a41184-da85-4461-de1b-007f58fc5961"
   },
   "outputs": [
    {
     "data": {
      "text/plain": [
       "0.0"
      ]
     },
     "execution_count": 21,
     "metadata": {},
     "output_type": "execute_result"
    }
   ],
   "source": [
    "evaluate(env, agent, n_games=1)"
   ]
  },
  {
   "cell_type": "markdown",
   "metadata": {
    "colab_type": "text",
    "id": "IjwBRxMckEe-"
   },
   "source": [
    "### Experience replay\n",
    "For this assignment, we provide you with experience replay buffer. If you implemented experience replay buffer in last week's assignment, you can copy-paste it here **to get 2 bonus points**.\n",
    "\n",
    "![img](https://github.com/yandexdataschool/Practical_RL/raw/master/yet_another_week/_resource/exp_replay.png)"
   ]
  },
  {
   "cell_type": "markdown",
   "metadata": {
    "colab_type": "text",
    "id": "-YO97eMukEe_"
   },
   "source": [
    "#### The interface is fairly simple:\n",
    "* `exp_replay.add(obs, act, rw, next_obs, done)` - saves (s,a,r,s',done) tuple into the buffer\n",
    "* `exp_replay.sample(batch_size)` - returns observations, actions, rewards, next_observations and is_done for `batch_size` random samples.\n",
    "* `len(exp_replay)` - returns number of elements stored in replay buffer."
   ]
  },
  {
   "cell_type": "code",
   "execution_count": 22,
   "metadata": {
    "colab": {},
    "colab_type": "code",
    "id": "HRSS2UUJkEfA"
   },
   "outputs": [],
   "source": [
    "import random\n",
    "\n",
    "\n",
    "class ReplayBuffer(object):\n",
    "    def __init__(self, size, epsilon=1e-6, alpha=0.05):\n",
    "        \"\"\"\n",
    "        Create Replay buffer.\n",
    "        Parameters\n",
    "        ----------\n",
    "        size: int\n",
    "            Max number of transitions to store in the buffer. When the buffer\n",
    "            overflows the old memories are dropped.\n",
    "\n",
    "        Note: for this assignment you can pick any data structure you want.\n",
    "              If you want to keep it simple, you can store a list of tuples of (s, a, r, s') in self._storage\n",
    "              However you may find out there are faster and/or more memory-efficient ways to do so.\n",
    "        \"\"\"\n",
    "        self._storage = np.zeros((size),dtype=np.object)\n",
    "        self._maxsize = size\n",
    "        self._cur_len = 0\n",
    "\n",
    "        # OPTIONAL: YOUR CODE\n",
    "        self._cur_idx = 0\n",
    "        self._priors = np.zeros((size), dtype=np.float)\n",
    "        self._max_value = 1.\n",
    "        self.epsilon = epsilon\n",
    "        self.alpha = alpha\n",
    "\n",
    "    def __len__(self):\n",
    "        return len(self._storage)\n",
    "\n",
    "    def add(self, obs_t, action, reward, obs_tp1, done):\n",
    "        '''\n",
    "        Make sure, _storage will not exceed _maxsize. \n",
    "        Make sure, FIFO rule is being followed: the oldest examples has to be removed earlier\n",
    "        '''\n",
    "        data = (obs_t, action, reward, obs_tp1, done)\n",
    "\n",
    "        # add data to storage\n",
    "        if self._cur_len >= self._maxsize:\n",
    "            self._storage[self._cur_idx] = data\n",
    "            self._priors[self._cur_idx] = np.nan\n",
    "            self._cur_idx = (self._cur_idx + 1) % self._maxsize\n",
    "        else:\n",
    "            self._storage[self._cur_len] = data\n",
    "            self._priors[self._cur_len] = np.nan\n",
    "            self._cur_len += 1\n",
    "\n",
    "    def sample(self, batch_size):\n",
    "        \"\"\"Sample a batch of experiences.\n",
    "        Parameters\n",
    "        ----------\n",
    "        batch_size: int\n",
    "            How many transitions to sample.\n",
    "        Returns\n",
    "        -------\n",
    "        obs_batch: np.array\n",
    "            batch of observations\n",
    "        act_batch: np.array\n",
    "            batch of actions executed given obs_batch\n",
    "        rew_batch: np.array\n",
    "            rewards received as results of executing act_batch\n",
    "        next_obs_batch: np.array\n",
    "            next set of observations seen after executing act_batch\n",
    "        done_mask: np.array\n",
    "            done_mask[i] = 1 if executing act_batch[i] resulted in\n",
    "            the end of an episode and 0 otherwise.\n",
    "        \"\"\"\n",
    "        priors = self._priors[:self._cur_len]\n",
    "        priors[np.isnan(priors)] = self._max_value\n",
    "        idxes = np.random.choice(\n",
    "            self._cur_len, batch_size, True, (priors**self.alpha)/np.sum(priors**self.alpha)\n",
    "        )\n",
    "\n",
    "        # collect <s,a,r,s',done> for each index\n",
    "        batch = self._storage[idxes]\n",
    "        return (np.stack([batch[i][0] for i in range(len(batch))]),\n",
    "                np.stack([batch[i][1] for i in range(len(batch))]),\n",
    "                np.stack([batch[i][2] for i in range(len(batch))]),\n",
    "                np.stack([batch[i][3] for i in range(len(batch))]),\n",
    "                np.stack([batch[i][4] for i in range(len(batch))]),\n",
    "                idxes)\n",
    "\n",
    "    def update_prior(self, td_error, idxes):\n",
    "        self._max_value = 0.1*np.abs(np.max(td_error)) + 0.9*self._max_value\n",
    "#         for i, j in enumerate(idxes):\n",
    "        self._priors[idxes] = td_error + self.epsilon"
   ]
  },
  {
   "cell_type": "code",
   "execution_count": 23,
   "metadata": {
    "colab": {},
    "colab_type": "code",
    "id": "WMEOpZPvkEfJ"
   },
   "outputs": [],
   "source": [
    "# from replay_buffer import ReplayBuffer\n",
    "exp_replay = ReplayBuffer(10)\n",
    "\n",
    "for _ in range(30):\n",
    "    exp_replay.add(env.reset(), env.action_space.sample(),\n",
    "                   1.0, env.reset(), done=False)\n",
    "\n",
    "obs_batch, act_batch, reward_batch, next_obs_batch, is_done_batch, _ = exp_replay.sample(\n",
    "    5)\n",
    "\n",
    "assert len(exp_replay) == 10, \"experience replay size should be 10 because that's what maximum capacity is\""
   ]
  },
  {
   "cell_type": "code",
   "execution_count": 24,
   "metadata": {
    "colab": {},
    "colab_type": "code",
    "id": "iTKnzisxkEfM"
   },
   "outputs": [],
   "source": [
    "# from collections import deque\n",
    "# import itertools\n",
    "# import operator\n",
    "\n",
    "# def play_and_record(initial_state, agent, env, exp_replay, n_steps=1, step_length=10, gamma=0.99):\n",
    "    \n",
    "#     s = initial_state\n",
    "#     states = deque([s])\n",
    "#     rewards = []\n",
    "#     actions = deque()\n",
    "#     dones = deque()\n",
    "#     gamma = gamma**np.arange(step_length-1)\n",
    "#     sum_rewards = 0\n",
    "    \n",
    "#     # Play the game for n_steps as per instructions above\n",
    "#     for i in range(n_steps + step_length - 2):\n",
    "#         qvalues = agent.get_qvalues([s])\n",
    "#         a = agent.sample_actions(qvalues)[0]\n",
    "#         actions.append(a)\n",
    "#         next_s, r, done, _ = env.step(a)\n",
    "#         dones.append(done)\n",
    "#         rewards.append(r)\n",
    "#         states.append(next_s)\n",
    "#         sum_rewards += r\n",
    "#         s = next_s\n",
    "#         if done:\n",
    "#             for j in range(min(len(states)-1, n_steps + step_length - 3 - i)):\n",
    "#                 disc_reward = np.dot(gamma[:len(states)-1], rewards)\n",
    "#                 exp_replay.add(states.popleft(), actions.popleft(), disc_reward, next_s, True)\n",
    "#                 rewards = rewards[1:]\n",
    "#             s = env.reset()\n",
    "#             states.clear()\n",
    "#             states.append(s)\n",
    "#             rewards.clear()\n",
    "#             actions.clear()\n",
    "#             dones.clear()\n",
    "            \n",
    "#         elif len(states) >= step_length:\n",
    "#             disc_reward = np.dot(gamma, rewards)\n",
    "#             exp_replay.add(states.popleft(), actions.popleft(), disc_reward, next_s, False)\n",
    "#             rewards = rewards[1:]\n",
    "#     return sum_rewards, s"
   ]
  },
  {
   "cell_type": "code",
   "execution_count": 25,
   "metadata": {},
   "outputs": [],
   "source": [
    "def play_and_record(initial_state, agent, env, exp_replay, n_steps=1, step_length=1, gamma=0.99):\n",
    "    \"\"\"\n",
    "    Play the game for exactly n steps, record every (s,a,r,s', done) to replay buffer. \n",
    "    Whenever game ends, add record with done=True and reset the game.\n",
    "    It is guaranteed that env has done=False when passed to this function.\n",
    "\n",
    "    PLEASE DO NOT RESET ENV UNLESS IT IS \"DONE\"\n",
    "\n",
    "    :returns: return sum of rewards over time and the state in which the env stays\n",
    "    \"\"\"\n",
    "    s = initial_state\n",
    "    sum_rewards = 0\n",
    "    \n",
    "    # Play the game for n_steps as per instructions above\n",
    "    for i in range(n_steps):\n",
    "        qvalues = agent.get_qvalues([s])\n",
    "        a = agent.sample_actions(qvalues)[0]\n",
    "        next_s, r, done, _ = env.step(a)\n",
    "        \n",
    "        exp_replay.add(s, a, r, next_s, done)\n",
    "        \n",
    "        sum_rewards += r\n",
    "        s = next_s\n",
    "        if done:\n",
    "            s = env.reset()\n",
    "    return sum_rewards, s"
   ]
  },
  {
   "cell_type": "code",
   "execution_count": 26,
   "metadata": {
    "colab": {},
    "colab_type": "code",
    "id": "lxSKtV7ikEfQ"
   },
   "outputs": [],
   "source": [
    "# # testing your code.\n",
    "# exp_replay = ReplayBuffer(2000)\n",
    "\n",
    "# state = env.reset()\n",
    "# play_and_record(state, agent, env, exp_replay, n_steps=1000)\n",
    "\n",
    "# # if you're using your own experience replay buffer, some of those tests may need correction.\n",
    "# # just make sure you know what your code does\n",
    "# assert len(exp_replay) == 1000, \"play_and_record should have added exactly 1000 steps, \"\\\n",
    "#                                  \"but instead added %i\" % len(exp_replay)\n",
    "# is_dones = list(zip(*exp_replay._storage))[-1]\n",
    "\n",
    "# assert 0 < np.mean(is_dones) < 0.1, \"Please make sure you restart the game whenever it is 'done' and record the is_done correctly into the buffer.\"\\\n",
    "#                                     \"Got %f is_done rate over %i steps. [If you think it's your tough luck, just re-run the test]\" % (\n",
    "#                                         np.mean(is_dones), len(exp_replay))\n",
    "\n",
    "# for _ in range(100):\n",
    "#     obs_batch, act_batch, reward_batch, next_obs_batch, is_done_batch = exp_replay.sample(\n",
    "#         10)\n",
    "#     assert obs_batch.shape == next_obs_batch.shape == (10,) + state_shape\n",
    "#     assert act_batch.shape == (\n",
    "#         10,), \"actions batch should have shape (10,) but is instead %s\" % str(act_batch.shape)\n",
    "#     assert reward_batch.shape == (\n",
    "#         10,), \"rewards batch should have shape (10,) but is instead %s\" % str(reward_batch.shape)\n",
    "#     assert is_done_batch.shape == (\n",
    "#         10,), \"is_done batch should have shape (10,) but is instead %s\" % str(is_done_batch.shape)\n",
    "#     assert [int(i) in (0, 1)\n",
    "#             for i in is_dones], \"is_done should be strictly True or False\"\n",
    "#     assert [\n",
    "#         0 <= a < n_actions for a in act_batch], \"actions should be within [0, n_actions)\"\n",
    "\n",
    "# print(\"Well done!\")"
   ]
  },
  {
   "cell_type": "markdown",
   "metadata": {
    "colab_type": "text",
    "id": "odDvRGw9kEfU"
   },
   "source": [
    "### Target networks\n",
    "\n",
    "We also employ the so called \"target network\" - a copy of neural network weights to be used for reference Q-values:\n",
    "\n",
    "The network itself is an exact copy of agent network, but it's parameters are not trained. Instead, they are moved here from agent's actual network every so often.\n",
    "\n",
    "$$ Q_{reference}(s,a) = r + \\gamma \\cdot \\max _{a'} Q_{target}(s',a') $$\n",
    "\n",
    "![img](https://github.com/yandexdataschool/Practical_RL/raw/master/yet_another_week/_resource/target_net.png)"
   ]
  },
  {
   "cell_type": "code",
   "execution_count": 27,
   "metadata": {
    "colab": {
     "base_uri": "https://localhost:8080/",
     "height": 34
    },
    "colab_type": "code",
    "id": "oeoUrfwlkEfV",
    "outputId": "1ab1f1bc-4f5d-49f9-cfc0-065afb686b06"
   },
   "outputs": [
    {
     "data": {
      "text/plain": [
       "IncompatibleKeys(missing_keys=[], unexpected_keys=[])"
      ]
     },
     "execution_count": 27,
     "metadata": {},
     "output_type": "execute_result"
    }
   ],
   "source": [
    "target_network = DQNAgent(agent.state_shape, agent.n_actions, epsilon=0.5).to(device)\n",
    "# This is how you can load weights from agent into target network\n",
    "# agent.load_state_dict(torch.load('agent_main.h5'))\n",
    "\n",
    "target_network.load_state_dict(agent.state_dict())"
   ]
  },
  {
   "cell_type": "markdown",
   "metadata": {
    "colab_type": "text",
    "id": "CD837rY0kEfY"
   },
   "source": [
    "### Learning with... Q-learning\n",
    "Here we write a function similar to `agent.update` from tabular q-learning."
   ]
  },
  {
   "cell_type": "markdown",
   "metadata": {
    "colab_type": "text",
    "id": "Q7z8oXNUkEfZ"
   },
   "source": [
    "Compute Q-learning TD error:\n",
    "\n",
    "$$ L = { 1 \\over N} \\sum_i [ Q_{\\theta}(s,a) - Q_{reference}(s,a) ] ^2 $$\n",
    "\n",
    "With Q-reference defined as\n",
    "\n",
    "$$ Q_{reference}(s,a) = r(s,a) + \\gamma \\cdot max_{a'} Q_{target}(s', a') $$\n",
    "\n",
    "Where\n",
    "* $Q_{target}(s',a')$ denotes q-value of next state and next action predicted by __target_network__\n",
    "* $s, a, r, s'$ are current state, action, reward and next state respectively\n",
    "* $\\gamma$ is a discount factor defined two cells above.\n",
    "\n",
    "\n",
    "__Note 1:__ there's an example input below. Feel free to experiment with it before you write the function.\n",
    "\n",
    "__Note 2:__ compute_td_loss is a source of 99% of bugs in this homework. If reward doesn't improve, it often helps to go through it line by line [with a rubber duck](https://rubberduckdebugging.com/)."
   ]
  },
  {
   "cell_type": "code",
   "execution_count": 28,
   "metadata": {
    "colab": {},
    "colab_type": "code",
    "id": "nrCbAOTbkEfa"
   },
   "outputs": [],
   "source": [
    "def compute_td_loss(states, actions, rewards, next_states, is_done,\n",
    "                    agent, target_network,\n",
    "                    gamma=0.99,\n",
    "                    step_length=10,\n",
    "                    check_shapes=False,\n",
    "                    device=device,\n",
    "                    V_min=0, V_max=5, N=12,\n",
    "                    epsilon=1e-6):\n",
    "    \"\"\" Compute td loss using torch operations only. Use the formulae above. \"\"\"\n",
    "    states = torch.tensor(states, device=device, dtype=torch.float)    # shape: [batch_size, *state_shape]\n",
    "\n",
    "    # for some torch reason should not make actions a tensor\n",
    "    actions = torch.tensor(actions, device=device, dtype=torch.long)    # shape: [batch_size]\n",
    "    rewards = torch.tensor(rewards, device=device, dtype=torch.float)  # shape: [batch_size]\n",
    "    # shape: [batch_size, *state_shape]\n",
    "    next_states = torch.tensor(next_states, device=device, dtype=torch.float)\n",
    "    is_done = torch.tensor(\n",
    "        is_done.astype('float32'),\n",
    "        device=device,\n",
    "        dtype=torch.float\n",
    "    )  # shape: [batch_size]\n",
    "    is_not_done = 1 - is_done\n",
    "\n",
    "#     # get q-values for all actions in current states\n",
    "#     predicted_qvalues = agent(states)\n",
    "\n",
    "#     # compute q-values for all actions in next states\n",
    "#     predicted_next_qvalues = target_network(next_states)\n",
    "    \n",
    "#     # select q-values for chosen actions\n",
    "#     predicted_qvalues_for_actions = predicted_qvalues[range(\n",
    "#         len(actions)), actions]\n",
    "\n",
    "#     # compute V*(next_states) using predicted next q-values\n",
    "#     next_actions = torch.argmax(predicted_qvalues, -1)\n",
    "#     next_state_values = predicted_next_qvalues[range(\n",
    "#         len(next_actions)), next_actions]\n",
    "\n",
    "#     assert next_state_values.dim(\n",
    "#     ) == 1 and next_state_values.shape[0] == states.shape[0], \"must predict one value per state\"\n",
    "\n",
    "#     # compute \"target q-values\" for loss - it's what's inside square parentheses in the above formula.\n",
    "#     # at the last state use the simplified formula: Q(s,a) = r(s,a) since s' doesn't exist\n",
    "#     # you can multiply next state values by is_not_done to achieve this.\n",
    "#     target_qvalues_for_actions = rewards + gamma**(step_length)*next_state_values\n",
    "#     target_qvalues_for_actions = torch.where(\n",
    "#         is_done > 0.5, rewards, target_qvalues_for_actions)\n",
    "\n",
    "\n",
    "#     # mean squared error loss to minimize\n",
    "#     loss = (predicted_qvalues_for_actions -\n",
    "#                        target_qvalues_for_actions.detach()) ** 2\n",
    "    batch_size = len(actions)\n",
    "    predicted_probas = agent(states)\n",
    "    predicted_next_probas_target = target_network(next_states).detach()\n",
    "    \n",
    "    predicted_next_qvalues_agent = agent(next_states).detach().transpose(1, 2).matmul(agent.z)\n",
    "\n",
    "    next_actions = torch.argmax(predicted_next_qvalues_agent, 1)\n",
    "    \n",
    "    target_probas_for_actions = predicted_next_probas_target[range(len(next_actions)), :, next_actions]\n",
    "#     print(predicted_probas.shape)\n",
    "#     print(predicted_probas)\n",
    "#     print(predicted_next_probas_target.shape)\n",
    "#     print(is_done.shape, rewards.shape, agent.z[None,:].shape)\n",
    "    Tz = torch.where(is_done[:, None] > 0.5, rewards[:, None] + torch.zeros(N).cuda()[None, :], rewards[:, None] + gamma**(step_length)*agent.z[None, :])\n",
    "    Tz = torch.clamp(Tz, V_min, V_max)\n",
    "    b = (Tz - V_min)/agent.delta\n",
    "    l, u = torch.clamp((b + epsilon).floor().to(torch.int64), 0, N-1), torch.clamp((b + epsilon).ceil().to(torch.int64), 0, N-1)\n",
    "    # print(l, u)\n",
    "    m = torch.zeros(batch_size, N).cuda()\n",
    "    offset = torch.linspace(0, ((batch_size - 1) * N), batch_size).unsqueeze(1).expand(batch_size, N).to(torch.int64).cuda()\n",
    "    m.view(-1).index_add_(0, (l + offset).view(-1), (target_probas_for_actions * (u.float() - b)).view(-1))\n",
    "    m.view(-1).index_add_(0, (u + offset).view(-1), (target_probas_for_actions * (b - l.float())).view(-1))\n",
    "    # mean squared error loss to minimize\n",
    "    loss = -torch.sum(m * torch.log(predicted_probas[range(batch_size), :, actions] + epsilon), 1)\n",
    "\n",
    "#     if check_shapes:\n",
    "#         assert predicted_next_qvalues.data.dim(\n",
    "#         ) == 2, \"make sure you predicted q-values for all actions in next state\"\n",
    "#         assert next_state_values.data.dim(\n",
    "#         ) == 1, \"make sure you computed V(s') as maximum over just the actions axis and not all axes\"\n",
    "#         assert target_qvalues_for_actions.data.dim(\n",
    "#         ) == 1, \"there's something wrong with target q-values, they must be a vector\"\n",
    "\n",
    "    return loss"
   ]
  },
  {
   "cell_type": "markdown",
   "metadata": {
    "colab_type": "text",
    "id": "yZL2D7TzkEfe"
   },
   "source": [
    "Sanity checks"
   ]
  },
  {
   "cell_type": "code",
   "execution_count": 29,
   "metadata": {
    "colab": {},
    "colab_type": "code",
    "id": "SzuR8eaBkEff"
   },
   "outputs": [],
   "source": [
    "obs_batch, act_batch, reward_batch, next_obs_batch, is_done_batch, _ = exp_replay.sample(\n",
    "    5)\n",
    "\n",
    "loss = compute_td_loss(obs_batch, act_batch, reward_batch, next_obs_batch, is_done_batch,\n",
    "                       agent, target_network,\n",
    "                       gamma=0.99, check_shapes=True)\n",
    "\n",
    "loss = loss.mean()\n",
    "\n",
    "loss.backward()\n",
    "\n",
    "assert loss.requires_grad and tuple(loss.data.size()) == (\n",
    "    ), \"you must return scalar loss - mean over batch\"\n",
    "assert np.any(next(agent.parameters()).grad.data.cpu().numpy() !=\n",
    "              0), \"loss must be differentiable w.r.t. network weights\"\n",
    "assert np.all(next(target_network.parameters()).grad is None), \"target network should not have grads\""
   ]
  },
  {
   "cell_type": "code",
   "execution_count": 30,
   "metadata": {},
   "outputs": [
    {
     "data": {
      "text/plain": [
       "<matplotlib.image.AxesImage at 0x1d052668>"
      ]
     },
     "execution_count": 30,
     "metadata": {},
     "output_type": "execute_result"
    },
    {
     "data": {
      "image/png": "[encoded data removed]",
      "text/plain": [
       "<Figure size 432x288 with 1 Axes>"
      ]
     },
     "metadata": {
      "needs_background": "light"
     },
     "output_type": "display_data"
    }
   ],
   "source": [
    "plt.imshow(obs_batch[4][0])\n",
    "# print(np.rollaxis(next_obs_batch[0], 0, 3).shape)"
   ]
  },
  {
   "cell_type": "markdown",
   "metadata": {
    "colab_type": "text",
    "id": "YrWSjRxYkEfi"
   },
   "source": [
    "## Main loop (3 pts)\n",
    "\n",
    "**If deadline is tonight and it has not converged:** It is ok. Send the notebook today and when it converges send it again.\n",
    "If the code is exactly the same points will not be discounted.\n",
    "\n",
    "It's time to put everything together and see if it learns anything."
   ]
  },
  {
   "cell_type": "code",
   "execution_count": 31,
   "metadata": {
    "colab": {},
    "colab_type": "code",
    "id": "4StOevf4kEfj"
   },
   "outputs": [],
   "source": [
    "from tqdm import trange\n",
    "from IPython.display import clear_output\n",
    "import matplotlib.pyplot as plt"
   ]
  },
  {
   "cell_type": "code",
   "execution_count": 32,
   "metadata": {
    "colab": {
     "base_uri": "https://localhost:8080/",
     "height": 34
    },
    "colab_type": "code",
    "id": "fcGvjEJ3kEfm",
    "outputId": "3f561245-e296-4f93-fb57-c8ee20dfa87d"
   },
   "outputs": [
    {
     "data": {
      "text/plain": [
       "<torch._C.Generator at 0x6f04d30>"
      ]
     },
     "execution_count": 32,
     "metadata": {},
     "output_type": "execute_result"
    }
   ],
   "source": [
    "seed = 123\n",
    "random.seed(seed)\n",
    "np.random.seed(seed)\n",
    "torch.manual_seed(seed)"
   ]
  },
  {
   "cell_type": "code",
   "execution_count": 34,
   "metadata": {
    "colab": {
     "base_uri": "https://localhost:8080/",
     "height": 68
    },
    "colab_type": "code",
    "id": "6C4ZC6m8kEfp",
    "outputId": "d431fed5-5b1f-47f0-c4a9-bd9646396041"
   },
   "outputs": [
    {
     "data": {
      "text/plain": [
       "IncompatibleKeys(missing_keys=[], unexpected_keys=[])"
      ]
     },
     "execution_count": 34,
     "metadata": {},
     "output_type": "execute_result"
    }
   ],
   "source": [
    "env = make_env(seed)\n",
    "state_shape = env.observation_space.shape\n",
    "n_actions = env.action_space.n\n",
    "state = env.reset()\n",
    "\n",
    "agent = DQNAgent(state_shape, n_actions, epsilon=1.0).to(device)\n",
    "agent.load_state_dict(torch.load('agent_main.h5'))\n",
    "target_network = DQNAgent(state_shape, n_actions).to(device)\n",
    "target_network.load_state_dict(agent.state_dict())"
   ]
  },
  {
   "cell_type": "code",
   "execution_count": 37,
   "metadata": {},
   "outputs": [],
   "source": [
    "step_length = 1\n",
    "gamma = 0.99"
   ]
  },
  {
   "cell_type": "markdown",
   "metadata": {
    "colab_type": "text",
    "id": "QA5sNjBXkEfs"
   },
   "source": [
    "Buffer of size $10^4$ fits into 5 Gb RAM.\n",
    "\n",
    "Larger sizes ($10^5$ and $10^6$ are common) can be used. It can improve the learning, but $10^4$ is quiet enough. $10^2$ will probably fail learning."
   ]
  },
  {
   "cell_type": "code",
   "execution_count": 35,
   "metadata": {
    "colab": {
     "base_uri": "https://localhost:8080/",
     "height": 34
    },
    "colab_type": "code",
    "id": "ZdfhYjCMkEfs",
    "outputId": "2b896fdd-1891-4afe-f4d9-1c9bfe989841"
   },
   "outputs": [
    {
     "name": "stdout",
     "output_type": "stream",
     "text": [
      "10000\n"
     ]
    }
   ],
   "source": [
    "exp_replay = ReplayBuffer(10**4)\n",
    "for i in range(400):\n",
    "    if not utils.is_enough_ram(min_available_gb=0.1):\n",
    "        print(\"\"\"\n",
    "            Less than 100 Mb RAM available. \n",
    "            Make sure the buffer size in not too huge.\n",
    "            Also check, maybe other processes consume RAM heavily.\n",
    "            \"\"\"\n",
    "             )\n",
    "        break\n",
    "    play_and_record(state, agent, env, exp_replay, n_steps=10**2, step_length=step_length, gamma=gamma)\n",
    "    if len(exp_replay) == 10**4:\n",
    "        break\n",
    "print(len(exp_replay))"
   ]
  },
  {
   "cell_type": "code",
   "execution_count": 38,
   "metadata": {
    "colab": {},
    "colab_type": "code",
    "id": "vZQMLSdNkEfv"
   },
   "outputs": [],
   "source": [
    "timesteps_per_epoch = 10\n",
    "# play_freq = 200\n",
    "batch_size = 256\n",
    "total_steps = 3 * 10**5\n",
    "decay_steps = 6 * 10**4\n",
    "\n",
    "# opt = torch.optim.Adam(agent.parameters(), betas=(0.0, 0.999), lr=1e-4)\n",
    "opt = torch.optim.Adam(agent.parameters(), betas=(0.9, 0.999), lr=1e-4)\n",
    "# opt.load_state_dict(torch.load('opt.h5'))\n",
    "sch = torch.optim.lr_scheduler.MultiStepLR(opt, range(0, 3 * 10**5, 100), 0.99995)\n",
    "\n",
    "init_epsilon = 1.0\n",
    "# init_epsilon = 0.2\n",
    "final_epsilon = 0.1\n",
    "\n",
    "loss_freq = 50\n",
    "refresh_target_network_freq = 500\n",
    "eval_freq = 500\n",
    "\n",
    "max_grad_norm = 50\n",
    "\n",
    "n_lives = 5"
   ]
  },
  {
   "cell_type": "code",
   "execution_count": 37,
   "metadata": {
    "colab": {},
    "colab_type": "code",
    "id": "DefY1b_2kEfy"
   },
   "outputs": [],
   "source": [
    "mean_rw_history = []\n",
    "td_loss_history = []\n",
    "grad_norm_history = []\n",
    "initial_state_v_history = []"
   ]
  },
  {
   "cell_type": "code",
   "execution_count": 38,
   "metadata": {
    "colab": {},
    "colab_type": "code",
    "id": "q6Fga1pc9dFX"
   },
   "outputs": [],
   "source": [
    "#init_epsilon = 0.6\n"
   ]
  },
  {
   "cell_type": "code",
   "execution_count": null,
   "metadata": {
    "colab": {
     "base_uri": "https://localhost:8080/",
     "height": 1000
    },
    "colab_type": "code",
    "id": "5WLkvY9nkEf0",
    "outputId": "c071de20-7d69-41d0-ac06-3d1916ffb780",
    "scrolled": false
   },
   "outputs": [
    {
     "name": "stdout",
     "output_type": "stream",
     "text": [
      "buffer size = 10000, epsilon = 0.10000, lr = 0.0000968457\n"
     ]
    },
    {
     "data": {
      "image/png": "[encoded data removed]",
      "text/plain": [
       "<Figure size 1152x648 with 4 Axes>"
      ]
     },
     "metadata": {
      "needs_background": "light"
     },
     "output_type": "display_data"
    },
    {
     "name": "stderr",
     "output_type": "stream",
     "text": [
      " 21%|██████▍                       | 64188/300001 [4:25:14<13:27:39,  4.87it/s]"
     ]
    }
   ],
   "source": [
    "state = env.reset()\n",
    "for step in trange(total_steps + 1):\n",
    "    if not utils.is_enough_ram():\n",
    "        print('less that 100 Mb RAM available, freezing')\n",
    "        print('make sure everythin is ok and make KeyboardInterrupt to continue')\n",
    "        try:\n",
    "            while True:\n",
    "                pass\n",
    "        except KeyboardInterrupt:\n",
    "            pass\n",
    "\n",
    "    agent.epsilon = utils.linear_decay(init_epsilon, final_epsilon, step, decay_steps)\n",
    "\n",
    "    # play\n",
    "#     if step % play_freq == 0:\n",
    "#         _, state = play_and_record(state, agent, env, exp_replay, timesteps_per_epoch, step_length=step_length, gamma=gamma)\n",
    "    _, state = play_and_record(state, agent, env, exp_replay, timesteps_per_epoch, step_length=step_length, gamma=gamma)\n",
    "\n",
    "    # train\n",
    "#     < sample batch_size of data from experience replay >\n",
    "    states, actions, rewards, next_states, dones, idxes = exp_replay.sample(batch_size)\n",
    "    \n",
    "    loss = compute_td_loss(states, actions, rewards, next_states, dones, agent, target_network, gamma=gamma,\n",
    "                    step_length=step_length)\n",
    "    \n",
    "    exp_replay.update_prior(loss.cpu().detach().numpy(), idxes)\n",
    "    \n",
    "    loss = loss.mean()\n",
    "\n",
    "    loss.backward()\n",
    "    grad_norm = nn.utils.clip_grad_norm_(agent.parameters(), max_grad_norm)\n",
    "    opt.step()\n",
    "    opt.zero_grad()\n",
    "    sch.step()\n",
    "\n",
    "    if step % loss_freq == 0:\n",
    "#         torch.save(agent.state_dict(), 'agent_main.h5')\n",
    "        td_loss_history.append(loss.data.cpu().item())\n",
    "        grad_norm_history.append(grad_norm)\n",
    "\n",
    "    if step % refresh_target_network_freq == 0:\n",
    "        # Load agent weights into target_network\n",
    "        target_network.load_state_dict(agent.state_dict())\n",
    "\n",
    "    if step % eval_freq == 0:\n",
    "        torch.save(agent.state_dict(), 'agent_main.h5')\n",
    "        torch.save(opt.state_dict(), 'opt.h5')\n",
    "        torch.save(sch.state_dict(), 'sch.h5')\n",
    "        mean_rw_history.append(evaluate(\n",
    "            make_env(clip_rewards=True, seed=step), agent, n_games=3 * n_lives, greedy=True)\n",
    "        )\n",
    "        initial_state_q_values = agent.get_qvalues(\n",
    "            [make_env(seed=step).reset()]\n",
    "        )\n",
    "        initial_state_v_history.append(np.max(initial_state_q_values))\n",
    "\n",
    "        clear_output(True)\n",
    "        print(\"buffer size = %i, epsilon = %.5f, lr = %.10f\" %\n",
    "              (len(exp_replay), agent.epsilon, sch.get_lr()[0]))\n",
    "\n",
    "        plt.figure(figsize=[16, 9])\n",
    "\n",
    "        plt.subplot(2, 2, 1)\n",
    "        plt.title(\"Mean reward per life\")\n",
    "        plt.plot(mean_rw_history)\n",
    "        plt.grid()\n",
    "\n",
    "        assert not np.isnan(td_loss_history[-1])\n",
    "        plt.subplot(2, 2, 2)\n",
    "        plt.title(\"TD loss history (smoothened)\")\n",
    "        plt.plot(utils.smoothen(td_loss_history))\n",
    "        plt.grid()\n",
    "\n",
    "        plt.subplot(2, 2, 3)\n",
    "        plt.title(\"Initial state V\")\n",
    "        plt.plot(initial_state_v_history)\n",
    "        plt.grid()\n",
    "\n",
    "        plt.subplot(2, 2, 4)\n",
    "        plt.title(\"Grad norm history (smoothened)\")\n",
    "        plt.plot(utils.smoothen(grad_norm_history))\n",
    "        plt.grid()\n",
    "\n",
    "        plt.show()"
   ]
  },
  {
   "cell_type": "markdown",
   "metadata": {
    "colab_type": "text",
    "id": "TG6H30cXkEf4"
   },
   "source": [
    "Agent is evaluated for 1 life, not for a whole episode of 5 lives. Rewards in evaluation are also truncated. Cuz this is what environment the agent is learning in and in this way mean rewards per life can be compared with initial state value\n",
    "\n",
    "The goal is to get 10 points in the real env. So 2 or better 3 points in the preprocessed one will probably be enough. You can interrupt learning then."
   ]
  },
  {
   "cell_type": "markdown",
   "metadata": {
    "colab_type": "text",
    "id": "u41CsLrBkEf5"
   },
   "source": [
    "Final scoring is done on a whole episode with all 5 lives."
   ]
  },
  {
   "cell_type": "code",
   "execution_count": 39,
   "metadata": {
    "colab": {},
    "colab_type": "code",
    "id": "FTycwMzokEf6"
   },
   "outputs": [
    {
     "name": "stdout",
     "output_type": "stream",
     "text": [
      "final score: 28.333333333333336\n",
      "Cool!\n"
     ]
    }
   ],
   "source": [
    "final_score = evaluate(\n",
    "  make_env(clip_rewards=False, seed=9),\n",
    "    agent, n_games=30, greedy=True, t_max=10 * 1000\n",
    ") * n_lives\n",
    "print('final score:', final_score)\n",
    "assert final_score > 10, 'not as cool as DQN can'\n",
    "print('Cool!')"
   ]
  },
  {
   "cell_type": "markdown",
   "metadata": {
    "colab_type": "text",
    "id": "ToXugO74kEf9"
   },
   "source": [
    "## How to interpret plots:\n",
    "\n",
    "This aint no supervised learning so don't expect anything to improve monotonously. \n",
    "* **TD loss** is the MSE between agent's current Q-values and target Q-values. It may slowly increase or decrease, it's ok. The \"not ok\" behavior includes going NaN or stayng at exactly zero before agent has perfect performance.\n",
    "* **grad norm** just shows the intensivity of training. Not ok is growing to values of about 100 (or maybe even 50) though it depends on network architecture.\n",
    "* **mean reward** is the expected sum of r(s,a) agent gets over the full game session. It will oscillate, but on average it should get higher over time (after a few thousand iterations...). \n",
    " * In basic q-learning implementation it takes about 40k steps to \"warm up\" agent before it starts to get better.\n",
    "* **Initial state V** is the expected discounted reward for episode in the oppinion of the agent. It should behave more smoothly than **mean reward**. It should get higher over time but sometimes can experience drawdowns because of the agaent's overestimates.\n",
    "* **buffer size** - this one is simple. It should go up and cap at max size.\n",
    "* **epsilon** - agent's willingness to explore. If you see that agent's already at 0.01 epsilon before it's average reward is above 0 - it means you need to increase epsilon. Set it back to some 0.2 - 0.5 and decrease the pace at which it goes down.\n",
    "* Smoothing of plots is done with a gaussian kernel\n",
    "\n",
    "At first your agent will lose quickly. Then it will learn to suck less and at least hit the ball a few times before it loses. Finally it will learn to actually score points.\n",
    "\n",
    "**Training will take time.** A lot of it actually. Probably you will not see any improvment during first **150k** time steps (note that by default in this notebook agent is evaluated every 5000 time steps).\n",
    "\n",
    "But hey, long training time isn't _that_ bad:\n",
    "![img](https://github.com/yandexdataschool/Practical_RL/raw/master/yet_another_week/_resource/training.png)"
   ]
  },
  {
   "cell_type": "markdown",
   "metadata": {
    "colab_type": "text",
    "id": "_Y-KHr-CkEf-"
   },
   "source": [
    "## About hyperparameters:\n",
    "\n",
    "The task has something in common with supervised learning: loss is optimized through the buffer (instead of Train dataset). But the distribution of states and actions in the buffer **is not stationary** and depends on the policy that generated it. It can even happen that the mean TD error across the buffer is very low but the performance is extremely poor (imagine the agent collecting data to the buffer always manages to avoid the ball).\n",
    "\n",
    "* Total timesteps and training time: It seems to be so huge, but actually it is normal for RL.\n",
    "\n",
    "* $\\epsilon$ decay shedule was taken from the original paper and is like traditional for epsilon-greedy policies. At the beginning of the training the agent's greedy policy is poor so many random actions should be taken.\n",
    "\n",
    "* Optimizer: In the original paper RMSProp was used (they did not have Adam in 2013) and it can work not worse than Adam. For us Adam was default and it worked.\n",
    "\n",
    "* lr: $10^{-3}$ would probably be too huge\n",
    "\n",
    "* batch size: This one can be very important: if it is too small the agent can fail to learn. Huge batch takes more time to process. If batch of size 8 can not be processed on the hardware you use take 2 (or even 4) batches of size 4, divide the loss on them by 2 (or 4) and make optimization step after both backward() calls in torch.\n",
    "\n",
    "* target network update frequency: has something in common with learning rate. Too frequent updates can lead to divergence. Too rare can lead to slow leraning. For millions of total timesteps thousands of inner steps seem ok. One iteration of target network updating is an iteration of the (this time approximate) $\\gamma$-compression that stands behind Q-learning. The more inner steps it makes the more accurate is the compression.\n",
    "* max_grad_norm - just huge enough. In torch clip_grad_norm also evaluates the norm before clipping and it can be convenient for logging."
   ]
  },
  {
   "cell_type": "markdown",
   "metadata": {
    "colab_type": "text",
    "id": "ukvcg3WPkEgA"
   },
   "source": [
    "### Video"
   ]
  },
  {
   "cell_type": "code",
   "execution_count": 40,
   "metadata": {
    "colab": {},
    "colab_type": "code",
    "id": "orxU0Q8dkEgA"
   },
   "outputs": [],
   "source": [
    "# record sessions\n",
    "import gym.wrappers\n",
    "env_monitor = gym.wrappers.Monitor(make_env(), directory=\"videos\", force=True)\n",
    "sessions = [evaluate(env_monitor, agent, n_games=n_lives, greedy=True) for _ in range(10)]\n",
    "env_monitor.close()"
   ]
  },
  {
   "cell_type": "code",
   "execution_count": 41,
   "metadata": {
    "colab": {},
    "colab_type": "code",
    "id": "6h5I02vskEgE"
   },
   "outputs": [
    {
     "data": {
      "text/html": [
       "\n",
       "<video width=\"640\" height=\"480\" controls>\n",
       "  <source src=\"./videos/openaigym.video.0.692.video000027.mp4\" type=\"video/mp4\">\n",
       "</video>\n"
      ],
      "text/plain": [
       "<IPython.core.display.HTML object>"
      ]
     },
     "execution_count": 41,
     "metadata": {},
     "output_type": "execute_result"
    }
   ],
   "source": [
    "# show video\n",
    "from IPython.display import HTML\n",
    "import os\n",
    "\n",
    "video_names = list(\n",
    "    filter(lambda s: s.endswith(\".mp4\"), os.listdir(\"./videos/\")))\n",
    "\n",
    "HTML(\"\"\"\n",
    "<video width=\"640\" height=\"480\" controls>\n",
    "  <source src=\"{}\" type=\"video/mp4\">\n",
    "</video>\n",
    "\"\"\".format(\"./videos/\"+video_names[-1]))  # this may or may not be _last_ video. Try other indices"
   ]
  },
  {
   "cell_type": "markdown",
   "metadata": {
    "colab_type": "text",
    "id": "zHuqbSuhkEgH"
   },
   "source": [
    "## Let's have a closer look at this.\n",
    "\n",
    "If average episode score is below 200 using all 5 lives, then probably DQN has not converged fully. But anyway let's make a more complete record of an episode."
   ]
  },
  {
   "cell_type": "code",
   "execution_count": 42,
   "metadata": {
    "colab": {},
    "colab_type": "code",
    "id": "YWXWcIlakEgH"
   },
   "outputs": [
    {
     "name": "stdout",
     "output_type": "stream",
     "text": [
      "total reward for life: 8.0\n",
      "states\n",
      "v_mc\n",
      "v_agent\n",
      "q_spreads\n",
      "td_errors\n",
      "rewards\n",
      "episode_finished\n"
     ]
    }
   ],
   "source": [
    "eval_env = make_env(clip_rewards=False)\n",
    "record = utils.play_and_log_episode(eval_env, agent)\n",
    "print('total reward for life:', np.sum(record['rewards']))\n",
    "for key in record:\n",
    "    print(key)"
   ]
  },
  {
   "cell_type": "code",
   "execution_count": 43,
   "metadata": {
    "colab": {},
    "colab_type": "code",
    "id": "LRzj9PHdkEgK"
   },
   "outputs": [
    {
     "data": {
      "image/png": "[encoded data removed]",
      "text/plain": [
       "<Figure size 360x360 with 1 Axes>"
      ]
     },
     "metadata": {
      "needs_background": "light"
     },
     "output_type": "display_data"
    }
   ],
   "source": [
    "fig = plt.figure(figsize=(5, 5))\n",
    "ax = fig.add_subplot(1, 1, 1)\n",
    "\n",
    "ax.scatter(record['v_mc'], record['v_agent'])\n",
    "ax.plot(sorted(record['v_mc']), sorted(record['v_mc']),\n",
    "       'black', linestyle='--', label='x=y')\n",
    "\n",
    "ax.grid()\n",
    "ax.legend()\n",
    "ax.set_title('State Value Estimates')\n",
    "ax.set_xlabel('Monte-Carlo')\n",
    "ax.set_ylabel('Agent')\n",
    "\n",
    "plt.show()"
   ]
  },
  {
   "cell_type": "markdown",
   "metadata": {
    "colab_type": "text",
    "id": "vq56pMefkEgM"
   },
   "source": [
    "$\\hat V_{Monte-Carlo}(s_t) = \\sum_{\\tau=0}^{episode~end} \\gamma^{\\tau-t}r_t$"
   ]
  },
  {
   "cell_type": "markdown",
   "metadata": {
    "colab_type": "text",
    "id": "L1_YSV17kEgN"
   },
   "source": [
    "Is there a big bias? It's ok, anyway it works."
   ]
  },
  {
   "cell_type": "markdown",
   "metadata": {
    "colab_type": "text",
    "id": "5ESoa_ITkEgO"
   },
   "source": [
    "## Bonus I (2 pts)"
   ]
  },
  {
   "cell_type": "markdown",
   "metadata": {
    "colab_type": "text",
    "id": "uYHDCOADkEgP"
   },
   "source": [
    "**1.** Plot several (say 3) states with high and low spreads of Q estimate by actions i.e.\n",
    "$$\\max_a \\hat Q(s,a) - \\min_a \\hat Q(s,a)\\$$\n",
    "Please take those states from different episodes to make sure that the states are really different.\n",
    "\n",
    "What should high and low spread mean at least in the world of perfect Q-fucntions?\n",
    "\n",
    "Comment the states you like most.\n",
    "\n",
    "**2.** Plot several (say 3) states with high td-error and several states with high values of\n",
    "$$| \\hat V_{Monte-Carlo}(s) - \\hat V_{agent}(s)|,$$ \n",
    "$$\\hat V_{agent}(s)=\\max_a \\hat Q(s,a).$$ Please take those states from different episodes to make sure that the states are really different. From what part (i.e. beginning, middle, end) of an episode did these states come from?\n",
    "\n",
    "Comment the states you like most."
   ]
  },
  {
   "cell_type": "markdown",
   "metadata": {},
   "source": [
    "# 1.\n",
    "\n",
    "Означает, что агент убежден в своем решении. Т.е. он уверен, что некоторые действия приведут к плохим последствиям, а некоторые - к хорошим"
   ]
  },
  {
   "cell_type": "code",
   "execution_count": 129,
   "metadata": {
    "colab": {},
    "colab_type": "code",
    "id": "P9tJldabkEgP"
   },
   "outputs": [],
   "source": [
    "from utils import play_and_log_episode, img_by_obs\n",
    "\n",
    "logs = play_and_log_episode(env, agent)"
   ]
  },
  {
   "cell_type": "code",
   "execution_count": 130,
   "metadata": {},
   "outputs": [],
   "source": [
    "asrt = np.argsort(logs['q_spreads'])[::-1]"
   ]
  },
  {
   "cell_type": "code",
   "execution_count": 131,
   "metadata": {},
   "outputs": [
    {
     "data": {
      "image/png": "[encoded data removed]",
      "text/plain": [
       "<Figure size 1152x648 with 12 Axes>"
      ]
     },
     "metadata": {
      "needs_background": "light"
     },
     "output_type": "display_data"
    }
   ],
   "source": [
    "plt.figure(figsize=[16, 9])\n",
    "plt.title(\"Max q_spreads\")\n",
    "\n",
    "states = [0, 3, 6]\n",
    "for i, st in enumerate(states):\n",
    "    plt.subplot(len(states), 4, 4*i + 1)\n",
    "    plt.imshow(logs['states'][asrt[st]][0])\n",
    "    plt.grid()\n",
    "\n",
    "    plt.subplot(len(states), 4, 4*i + 2)\n",
    "    plt.imshow(logs['states'][asrt[st]][1])\n",
    "    plt.grid()\n",
    "\n",
    "    plt.subplot(len(states), 4, 4*i + 3)\n",
    "    plt.imshow(logs['states'][asrt[st]][2])\n",
    "    plt.grid()\n",
    "\n",
    "    plt.subplot(len(states), 4, 4*i + 4)\n",
    "    plt.imshow(logs['states'][asrt[st]][3])\n",
    "    plt.grid()\n",
    "\n",
    "plt.show()"
   ]
  },
  {
   "cell_type": "markdown",
   "metadata": {},
   "source": [
    "По-моему тут вседостаточно очевидно. Здесь такие ситуации, где очевидно действие т.к. шарик приближается."
   ]
  },
  {
   "cell_type": "code",
   "execution_count": 132,
   "metadata": {},
   "outputs": [],
   "source": [
    "asrt = np.argsort(logs['q_spreads'])"
   ]
  },
  {
   "cell_type": "code",
   "execution_count": 140,
   "metadata": {},
   "outputs": [
    {
     "data": {
      "image/png": "[encoded data removed]",
      "text/plain": [
       "<Figure size 1152x648 with 12 Axes>"
      ]
     },
     "metadata": {
      "needs_background": "light"
     },
     "output_type": "display_data"
    }
   ],
   "source": [
    "plt.figure(figsize=[16, 9])\n",
    "plt.title(\"Min q_spreads\")\n",
    "\n",
    "states = [0, 7, 6]\n",
    "for i, st in enumerate(states):\n",
    "    plt.subplot(len(states), 4, 4*i + 1)\n",
    "    plt.imshow(logs['states'][asrt[st]][0])\n",
    "    plt.grid()\n",
    "\n",
    "    plt.subplot(len(states), 4, 4*i + 2)\n",
    "    plt.imshow(logs['states'][asrt[st]][1])\n",
    "    plt.grid()\n",
    "\n",
    "    plt.subplot(len(states), 4, 4*i + 3)\n",
    "    plt.imshow(logs['states'][asrt[st]][2])\n",
    "    plt.grid()\n",
    "\n",
    "    plt.subplot(len(states), 4, 4*i + 4)\n",
    "    plt.imshow(logs['states'][asrt[st]][3])\n",
    "    plt.grid()\n",
    "\n",
    "plt.show()"
   ]
  },
  {
   "cell_type": "markdown",
   "metadata": {},
   "source": [
    "Здесь такие ситуации, где все равно что делать т.к. шарик отдаляется либо игра уже проиграна."
   ]
  },
  {
   "cell_type": "markdown",
   "metadata": {},
   "source": [
    "# 2.\n",
    "\n",
    "Все эти состояния ближе к концу."
   ]
  },
  {
   "cell_type": "code",
   "execution_count": 147,
   "metadata": {},
   "outputs": [],
   "source": [
    "asrt = np.argsort(logs['td_errors'])[::-1]\n",
    "cum_r = np.cumsum(logs['rewards'])"
   ]
  },
  {
   "cell_type": "code",
   "execution_count": 148,
   "metadata": {},
   "outputs": [
    {
     "data": {
      "image/png": "[encoded data removed]",
      "text/plain": [
       "<Figure size 1152x648 with 12 Axes>"
      ]
     },
     "metadata": {
      "needs_background": "light"
     },
     "output_type": "display_data"
    }
   ],
   "source": [
    "plt.figure(figsize=[16, 9])\n",
    "plt.title(\"Max td_errors\")\n",
    "\n",
    "states = [0, 3, 6]\n",
    "for i, st in enumerate(states):\n",
    "    plt.subplot(len(states), 4, 4*i + 1)\n",
    "    plt.title('reward % d' % cum_r[asrt[st]])\n",
    "    plt.imshow(logs['states'][asrt[st]][0])\n",
    "    plt.grid()\n",
    "\n",
    "    plt.subplot(len(states), 4, 4*i + 2)\n",
    "    plt.imshow(logs['states'][asrt[st]][1])\n",
    "    plt.grid()\n",
    "\n",
    "    plt.subplot(len(states), 4, 4*i + 3)\n",
    "    plt.imshow(logs['states'][asrt[st]][2])\n",
    "    plt.grid()\n",
    "\n",
    "    plt.subplot(len(states), 4, 4*i + 4)\n",
    "    plt.imshow(logs['states'][asrt[st]][3])\n",
    "    plt.grid()\n",
    "\n",
    "plt.show()"
   ]
  },
  {
   "cell_type": "code",
   "execution_count": 149,
   "metadata": {},
   "outputs": [],
   "source": [
    "asrt = np.argsort(np.abs(logs['v_mc'] - logs['v_agent']))[::-1]"
   ]
  },
  {
   "cell_type": "code",
   "execution_count": 150,
   "metadata": {},
   "outputs": [
    {
     "data": {
      "image/png": "[encoded data removed]",
      "text/plain": [
       "<Figure size 1152x648 with 12 Axes>"
      ]
     },
     "metadata": {
      "needs_background": "light"
     },
     "output_type": "display_data"
    }
   ],
   "source": [
    "plt.figure(figsize=[16, 9])\n",
    "plt.title(\"Max abs(v_mc - v_agent)\")\n",
    "\n",
    "states = [0, 3, 6]\n",
    "for i, st in enumerate(states):\n",
    "    plt.subplot(len(states), 4, 4*i + 1)\n",
    "    plt.title('reward % d' % cum_r[asrt[st]])\n",
    "    plt.imshow(logs['states'][asrt[st]][0])\n",
    "    plt.grid()\n",
    "\n",
    "    plt.subplot(len(states), 4, 4*i + 2)\n",
    "    plt.imshow(logs['states'][asrt[st]][1])\n",
    "    plt.grid()\n",
    "\n",
    "    plt.subplot(len(states), 4, 4*i + 3)\n",
    "    plt.imshow(logs['states'][asrt[st]][2])\n",
    "    plt.grid()\n",
    "\n",
    "    plt.subplot(len(states), 4, 4*i + 4)\n",
    "    plt.imshow(logs['states'][asrt[st]][3])\n",
    "    plt.grid()\n",
    "\n",
    "plt.show()"
   ]
  },
  {
   "cell_type": "markdown",
   "metadata": {
    "colab_type": "text",
    "id": "FXGCIfigkEgS"
   },
   "source": [
    "## Bonus II (1-5 pts). Get High Score!\n",
    "\n",
    "1 point to you for each 50 points of your agent. Truncated by 5 points.\n",
    "\n",
    "One way is to train for several days and use a big GPU (why not actually).\n",
    "\n",
    "Another way is to apply modifications (see **Bonus III**)."
   ]
  },
  {
   "cell_type": "markdown",
   "metadata": {
    "colab_type": "text",
    "id": "aoLkJnxbkEgT"
   },
   "source": [
    "## Bonus III (2+ pts). Apply modifications to DQN.\n",
    "\n",
    "For inspiration see [Rainbow](https://arxiv.org/abs/1710.02298) - a version of q-learning that combines lots of them.\n",
    "\n",
    "Points for Bonus II and Bonus III fully stack. So if modified agent gets score 250+ you get 5 pts for Bonus II + points for modifications. If the final score is 40 then you get the points for modifications.\n",
    "\n",
    "\n",
    "Some modifications:\n",
    "* [Prioritized experience replay](https://arxiv.org/abs/1511.05952) (5 pts for your own implementation, 2 pts for using a ready one)\n",
    "* [double q-learning](https://arxiv.org/abs/1509.06461) (2 pts)\n",
    "* [dueling q-learning](https://arxiv.org/abs/1511.06581) (2 pts)\n",
    "* multi-step heuristics (see [Rainbow](https://arxiv.org/abs/1710.02298)) (2 pts)\n",
    "* [distributional RL](https://arxiv.org/abs/1707.06887)(distributional and distributed stand for different things here) (5 pts)\n",
    "* Other modifications (2+ pts depending on complexity)"
   ]
  },
  {
   "cell_type": "markdown",
   "metadata": {
    "colab_type": "text",
    "id": "9S8KurxykEgT"
   },
   "source": [
    "## Bonus IV (4+ pts). Distributed RL.\n",
    "\n",
    "Solve the task in a distributed way. It can strongly speed up learning. See [article](https://arxiv.org/pdf/1602.01783.pdf) or some guides."
   ]
  },
  {
   "cell_type": "markdown",
   "metadata": {
    "colab_type": "text",
    "id": "aU0gv-0ukEgV"
   },
   "source": [
    "**As usual bonus points for all the tasks fully stack.**"
   ]
  }
 ],
 "metadata": {
  "accelerator": "GPU",
  "colab": {
   "collapsed_sections": [
    "ukvcg3WPkEgA"
   ],
   "name": "homework_pytorch_main.ipynb",
   "provenance": []
  },
  "kernelspec": {
   "display_name": "Python [conda env:rl]",
   "language": "python",
   "name": "conda-env-rl-py"
  },
  "language_info": {
   "codemirror_mode": {
    "name": "ipython",
    "version": 3
   },
   "file_extension": ".py",
   "mimetype": "text/x-python",
   "name": "python",
   "nbconvert_exporter": "python",
   "pygments_lexer": "ipython3",
   "version": "3.7.3"
  }
 },
 "nbformat": 4,
 "nbformat_minor": 1
}
